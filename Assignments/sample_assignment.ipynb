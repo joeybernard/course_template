{
 "cells": [
  {
   "cell_type": "markdown",
   "id": "76d2c66c",
   "metadata": {},
   "source": [
    "# Title\n",
    "\n",
    "This is an assignment template that can be used to generate other notebooks. The first cell should be the imports required for the code."
   ]
  },
  {
   "cell_type": "code",
   "execution_count": null,
   "id": "130b1589",
   "metadata": {},
   "outputs": [],
   "source": [
    "import numpy as np\n",
    "import matplotlib.pyplot as plt\n",
    "# Other imports as needed"
   ]
  }
 ],
 "metadata": {
  "language_info": {
   "name": "python"
  }
 },
 "nbformat": 4,
 "nbformat_minor": 5
}
